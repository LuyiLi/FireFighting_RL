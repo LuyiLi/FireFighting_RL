{
 "cells": [
  {
   "cell_type": "code",
   "execution_count": 268,
   "metadata": {
    "ExecuteTime": {
     "end_time": "2023-10-27T10:07:48.221740103Z",
     "start_time": "2023-10-27T10:07:48.128129219Z"
    }
   },
   "outputs": [
    {
     "name": "stdout",
     "output_type": "stream",
     "text": [
      "cuda:0\n"
     ]
    }
   ],
   "source": [
    "import torch\n",
    "import numpy as np\n",
    "\n",
    "from ACNet_pytorch import ACNet\n",
    "from FireFightingEnv import FFEnv\n",
    "\n",
    "\n",
    "device = torch.device('cuda:0' if torch.cuda.is_available() else 'cpu')\n",
    "print(device)"
   ]
  },
  {
   "cell_type": "code",
   "execution_count": 269,
   "metadata": {},
   "outputs": [],
   "source": [
    "# Initialize environment\n",
    "agent_num = 3\n",
    "env = FFEnv(agent_num=agent_num)"
   ]
  },
  {
   "cell_type": "code",
   "execution_count": 270,
   "metadata": {},
   "outputs": [
    {
     "data": {
      "image/png": "[encoded data removed]",
      "text/plain": [
       "<Figure size 1080x1080 with 1 Axes>"
      ]
     },
     "metadata": {
      "needs_background": "light"
     },
     "output_type": "display_data"
    }
   ],
   "source": [
    "env.mapEnv.plotAll()"
   ]
  },
  {
   "cell_type": "code",
   "execution_count": 271,
   "metadata": {},
   "outputs": [
    {
     "name": "stdout",
     "output_type": "stream",
     "text": [
      "[[1. 1. 1. 1. 1. 1. 1. 1. 1. 1. 1.]\n",
      " [0. 0. 0. 0. 1. 0. 1. 0. 1. 0. 1.]\n",
      " [0. 0. 0. 0. 0. 0. 0. 0. 0. 0. 0.]\n",
      " [0. 0. 0. 0. 1. 1. 0. 1. 0. 0. 1.]\n",
      " [0. 0. 0. 0. 0. 0. 0. 0. 1. 1. 0.]\n",
      " [1. 0. 0. 0. 0. 0. 0. 0. 0. 0. 0.]\n",
      " [0. 1. 0. 0. 0. 0. 1. 1. 0. 0. 1.]\n",
      " [0. 0. 0. 0. 1. 1. 0. 0. 1. 1. 1.]\n",
      " [1. 0. 1. 0. 1. 0. 0. 0. 1. 1. 1.]\n",
      " [0. 0. 0. 0. 1. 0. 0. 0. 1. 0. 0.]\n",
      " [1. 1. 1. 0. 1. 1. 1. 0. 0. 1. 0.]] \n",
      "\n",
      "[[0.  0.  0.  0.  0.  0.  0.  0.  0.  0.  0. ]\n",
      " [0.  0.  0.  0.  0.  0.  0.  0.  0.  0.  0. ]\n",
      " [0.  0.  0.  0.  0.  0.  0.  0.  0.  0.  0. ]\n",
      " [0.  0.  0.  0.  0.  0.  0.  0.  0.  0.  0. ]\n",
      " [0.  0.  0.  0.  0.  0.  0.  0.  0.  0.  0. ]\n",
      " [0.  0.  0.  0.  0.  0.  0.  0.  0.  0.  0. ]\n",
      " [0.  0.  0.  0.  0.  0.  0.  0.  0.  0.  0. ]\n",
      " [0.  0.  0.  0.  0.  0.  0.  0.  0.  0.  0. ]\n",
      " [0.  0.  0.  0.  0.  0.  0.  0.  0.  0.  0. ]\n",
      " [0.  0.  0.  0.  0.  0.  0.  0.  0.  0.  0. ]\n",
      " [0.  0.  0.  0.  0.  0.  0.  0.  0.  0.  0.2]] \n",
      "\n",
      "[[0. 0. 0. 0. 0. 0. 0. 0. 0. 0. 0.]\n",
      " [0. 0. 0. 0. 0. 0. 0. 0. 0. 0. 0.]\n",
      " [0. 0. 0. 0. 0. 0. 0. 0. 0. 0. 0.]\n",
      " [0. 0. 0. 0. 0. 0. 0. 0. 0. 0. 0.]\n",
      " [0. 0. 0. 1. 0. 0. 0. 0. 0. 0. 0.]\n",
      " [0. 0. 0. 0. 1. 1. 0. 0. 0. 0. 0.]\n",
      " [0. 0. 0. 0. 0. 0. 0. 0. 0. 0. 0.]\n",
      " [0. 0. 0. 0. 0. 0. 0. 0. 0. 0. 0.]\n",
      " [0. 0. 0. 0. 0. 0. 0. 0. 0. 0. 0.]\n",
      " [0. 0. 0. 0. 0. 0. 0. 0. 0. 0. 0.]\n",
      " [0. 0. 0. 0. 0. 0. 0. 0. 0. 0. 0.]] \n",
      "\n",
      "[[0. 0. 0. 0. 0. 0. 0. 0. 0. 0. 0.]\n",
      " [0. 0. 0. 0. 0. 0. 0. 0. 0. 0. 0.]\n",
      " [0. 0. 0. 0. 0. 0. 0. 0. 0. 0. 0.]\n",
      " [0. 0. 0. 0. 0. 0. 0. 0. 0. 0. 0.]\n",
      " [0. 0. 0. 0. 0. 0. 0. 0. 0. 0. 0.]\n",
      " [0. 0. 0. 0. 0. 0. 0. 0. 0. 0. 0.]\n",
      " [0. 0. 0. 0. 0. 0. 0. 0. 0. 0. 0.]\n",
      " [0. 0. 0. 0. 0. 0. 0. 0. 0. 0. 0.]\n",
      " [0. 0. 0. 0. 0. 0. 0. 0. 0. 0. 0.]\n",
      " [0. 0. 0. 0. 0. 0. 0. 0. 0. 0. 0.]\n",
      " [0. 0. 0. 0. 0. 0. 0. 0. 0. 0. 0.]] \n",
      "\n",
      "10 \n",
      "\n"
     ]
    },
    {
     "name": "stderr",
     "output_type": "stream",
     "text": [
      "/home/peter/anaconda3/envs/course_env/lib/python3.6/site-packages/ipykernel_launcher.py:1: VisibleDeprecationWarning: Creating an ndarray from ragged nested sequences (which is a list-or-tuple of lists-or-tuples-or ndarrays with different lengths or shapes) is deprecated. If you meant to do this, you must specify 'dtype=object' when creating the ndarray\n",
      "  \"\"\"Entry point for launching an IPython kernel.\n"
     ]
    }
   ],
   "source": [
    "obs = np.array(env.observe_space)\n",
    "\n",
    "# obstacle map of agent[0]\n",
    "print(obs[0, 0], \"\\n\")\n",
    "# fire map of agent[0]\n",
    "print(obs[0, 1], \"\\n\")\n",
    "# agent map of agent[0]\n",
    "print(obs[0, 2], \"\\n\")\n",
    "# flammable map of agent[0]\n",
    "print(obs[0, 3], \"\\n\")\n",
    "# reserved water of agent[0]\n",
    "print(obs[0, 4], \"\\n\")\n"
   ]
  },
  {
   "cell_type": "code",
   "execution_count": 272,
   "metadata": {},
   "outputs": [
    {
     "name": "stdout",
     "output_type": "stream",
     "text": [
      "(3, 4, 11, 11)\n",
      "(3, 1)\n"
     ]
    }
   ],
   "source": [
    "# load data\n",
    "inputs_raw = np.array(obs[:, :4])\n",
    "inputs = []\n",
    "for map in inputs_raw:\n",
    "    reshaped_map = [np.array(arr) for arr in map]\n",
    "    inputs.append(reshaped_map)\n",
    "inputs = np.array(inputs)\n",
    "print(inputs.shape)\n",
    "\n",
    "water_res = np.array(obs[:, 4]).reshape(-1,1)\n",
    "print(water_res.shape)"
   ]
  },
  {
   "cell_type": "code",
   "execution_count": 273,
   "metadata": {},
   "outputs": [
    {
     "name": "stdout",
     "output_type": "stream",
     "text": [
      "QAQ! The network is working!\n"
     ]
    },
    {
     "name": "stderr",
     "output_type": "stream",
     "text": [
      "/home/peter/anaconda3/envs/course_env/lib/python3.6/site-packages/torch/_tensor.py:1013: UserWarning: The .grad attribute of a Tensor that is not a leaf Tensor is being accessed. Its .grad attribute won't be populated during autograd.backward(). If you indeed want the .grad field to be populated for a non-leaf Tensor, use .retain_grad() on the non-leaf Tensor. If you access the non-leaf Tensor by mistake, make sure you access the leaf Tensor instead. See github.com/pytorch/pytorch/pull/30531 for more informations. (Triggered internally at  aten/src/ATen/core/TensorBody.h:417.)\n",
      "  return self._grad\n"
     ]
    }
   ],
   "source": [
    "# action size: 4 direction movements, stop, 4 direction spraying with short/long range, and go back to water supply station.\n",
    "a_size = 4 + 1 + 4 * 2 + 1\n",
    "trainer = torch.optim.SGD\n",
    "TRAINING = True\n",
    "GRID_SIZE = 11\n",
    "learning_rate=1e-4\n",
    "agent_num = 3\n",
    "\n",
    "# __init__(self, scope, a, trainer, TRAINING, GRID_SIZE)\n",
    "net = ACNet(a_size, agent_num, trainer, learning_rate, TRAINING, GRID_SIZE)"
   ]
  },
  {
   "cell_type": "code",
   "execution_count": 274,
   "metadata": {},
   "outputs": [
    {
     "ename": "NameError",
     "evalue": "name 'tf' is not defined",
     "output_type": "error",
     "traceback": [
      "\u001b[0;31m---------------------------------------------------------------------------\u001b[0m",
      "\u001b[0;31mNameError\u001b[0m                                 Traceback (most recent call last)",
      "\u001b[0;32m<ipython-input-274-5a0d8c15d0ae>\u001b[0m in \u001b[0;36m<module>\u001b[0;34m\u001b[0m\n\u001b[1;32m      1\u001b[0m \u001b[0;31m# TODO: Create dataset & training.\u001b[0m\u001b[0;34m\u001b[0m\u001b[0;34m\u001b[0m\u001b[0;34m\u001b[0m\u001b[0m\n\u001b[0;32m----> 2\u001b[0;31m \u001b[0mconfig\u001b[0m \u001b[0;34m=\u001b[0m \u001b[0mtf\u001b[0m\u001b[0;34m.\u001b[0m\u001b[0mConfigProto\u001b[0m\u001b[0;34m(\u001b[0m\u001b[0;34m)\u001b[0m\u001b[0;34m\u001b[0m\u001b[0;34m\u001b[0m\u001b[0m\n\u001b[0m\u001b[1;32m      3\u001b[0m \u001b[0;34m\u001b[0m\u001b[0m\n\u001b[1;32m      4\u001b[0m \u001b[0msess\u001b[0m \u001b[0;34m=\u001b[0m \u001b[0mtf\u001b[0m\u001b[0;34m.\u001b[0m\u001b[0mSession\u001b[0m\u001b[0;34m(\u001b[0m\u001b[0mconfig\u001b[0m\u001b[0;34m=\u001b[0m\u001b[0mconfig\u001b[0m\u001b[0;34m)\u001b[0m\u001b[0;34m\u001b[0m\u001b[0;34m\u001b[0m\u001b[0m\n\u001b[1;32m      5\u001b[0m \u001b[0;34m\u001b[0m\u001b[0m\n",
      "\u001b[0;31mNameError\u001b[0m: name 'tf' is not defined"
     ]
    }
   ],
   "source": [
    "# TODO: Create dataset & training.\n",
    "config = tf.ConfigProto()\n",
    "\n",
    "sess = tf.Session(config=config)\n",
    "\n",
    "sess.run(tf.global_variables_initializer()) # setting random weights for all layers of the network"
   ]
  },
  {
   "cell_type": "code",
   "execution_count": null,
   "metadata": {},
   "outputs": [
    {
     "name": "stdout",
     "output_type": "stream",
     "text": [
      "(3, 300)\n"
     ]
    }
   ],
   "source": [
    "rnn_state = net.state_init # (zeros(1,128), zeros(1,128))\n",
    "\n",
    "feed_dict = {\n",
    "    net.inputs: inputs,\n",
    "    net.water_res: water_res,\n",
    "    net.state_in[0]: rnn_state[0],\n",
    "    net.state_in[1]: rnn_state[1],\n",
    "}\n",
    "\n",
    "policy = sess.run(net.policy, feed_dict = feed_dict)\n",
    "print(np.shape(policy))"
   ]
  },
  {
   "cell_type": "code",
   "execution_count": null,
   "metadata": {},
   "outputs": [
    {
     "name": "stderr",
     "output_type": "stream",
     "text": [
      "/home/peter/anaconda3/envs/course_env/lib/python3.6/site-packages/ipykernel_launcher.py:24: VisibleDeprecationWarning: Creating an ndarray from ragged nested sequences (which is a list-or-tuple of lists-or-tuples-or ndarrays with different lengths or shapes) is deprecated. If you meant to do this, you must specify 'dtype=object' when creating the ndarray\n"
     ]
    }
   ],
   "source": [
    "state = env.reset()\n",
    "episode_rollout = []\n",
    "iteration = 10\n",
    "\n",
    "actions, action_array = [],[]\n",
    "for i in range(3):\n",
    "    actions.append([[], [], [], []])\n",
    "    action_array.append(0)\n",
    "\n",
    "for t in range(iteration):\n",
    "    # 4 parameter to describe 1 action\n",
    "    # Moving direction, spraying distance, spraying direction, help bacon\n",
    "    for i, a in enumerate(actions):\n",
    "        a[0] = np.random.choice([0, 1, 2, 3, 4])\n",
    "        a[1] = np.random.choice([0, 1, 2, 3, 4, 5])\n",
    "        a[2] = np.random.choice([0, 1, 2, 3, 4])\n",
    "        a[3] = np.random.choice([0, 1])\n",
    "\n",
    "        # encode action in action space\n",
    "        action_array[i] = a[0] * 60 + a[1] * 10 + a[2] * 2 + a[3]\n",
    "\n",
    "    s1, rewards, done = env.step(actions)\n",
    "\n",
    "    state = np.array(state)\n",
    "    maps_raw = np.array(state[:, :4])\n",
    "    maps = []\n",
    "    for map in maps_raw:\n",
    "        reshaped_map = [np.array(arr) for arr in map]\n",
    "        maps.append(reshaped_map)\n",
    "    maps = np.array(maps)\n",
    "    # maps = maps_raw\n",
    "    \n",
    "    water = np.array(state[:, 4]).reshape(-1,1)\n",
    "    # water = np.array(state[:, 4])\n",
    "\n",
    "    episode_rollout.append([maps, water, np.array(action_array), rewards])\n",
    "    state = s1[:]"
   ]
  },
  {
   "cell_type": "code",
   "execution_count": null,
   "metadata": {},
   "outputs": [
    {
     "name": "stdout",
     "output_type": "stream",
     "text": [
      "(30, 4, 11, 11)\n",
      "(30, 1)\n",
      "(30,)\n",
      "(30,)\n"
     ]
    }
   ],
   "source": [
    "# batch_size, channel, map_size[0], map_size[1]\n",
    "inputs    = np.array([item[0] for item in episode_rollout]).reshape(iteration*agent_num, 4, 11, 11)\n",
    "# batch_size, water_reserved\n",
    "water_res = np.array([item[1] for item in episode_rollout]).reshape(iteration*agent_num, 1)\n",
    "# batch_size\n",
    "actions   = np.array([item[2] for item in episode_rollout]).reshape(iteration*agent_num)\n",
    "# batch_size\n",
    "rewards   = np.array([item[3] for item in episode_rollout]).reshape(iteration*agent_num)\n",
    "print(np.shape(inputs))\n",
    "print(np.shape(water_res))\n",
    "print(np.shape(actions))\n",
    "print(np.shape(rewards))"
   ]
  },
  {
   "cell_type": "code",
   "execution_count": null,
   "metadata": {},
   "outputs": [
    {
     "name": "stdout",
     "output_type": "stream",
     "text": [
      "0.014503602 8.555746 7.8217525\n"
     ]
    }
   ],
   "source": [
    "# In practice: calculate long-term cumulative discounted rewards from episode rewards here\n",
    "# --> net.target_v\n",
    "\n",
    "# In practice: calculate advantages estimates (TD-error) here\n",
    "# --> net.advantages\n",
    "\n",
    "\n",
    "rnn_state = net.state_init\n",
    "feed_dict = {\n",
    "    net.inputs:      inputs,\n",
    "    net.water_res:   water_res,\n",
    "    net.actions:     actions,\n",
    "\n",
    "    net.target_v:    rewards,\n",
    "    net.advantages:  rewards,\n",
    "\n",
    "    net.state_in[0]: rnn_state[0],\n",
    "    net.state_in[1]: rnn_state[1]\n",
    "}\n",
    "\n",
    "v_l, p_l, g_n, _ = sess.run([net.value_loss,\n",
    "                             net.policy_loss,\n",
    "                             net.grad_norms,\n",
    "                             net.apply_grads],\n",
    "                             feed_dict=feed_dict)\n",
    "\n",
    "print(v_l, p_l, g_n)"
   ]
  }
 ],
 "metadata": {
  "kernelspec": {
   "display_name": "Python 3 (ipykernel)",
   "language": "python",
   "name": "python3"
  },
  "language_info": {
   "codemirror_mode": {
    "name": "ipython",
    "version": 3
   },
   "file_extension": ".py",
   "mimetype": "text/x-python",
   "name": "python",
   "nbconvert_exporter": "python",
   "pygments_lexer": "ipython3",
   "version": "3.6.10"
  }
 },
 "nbformat": 4,
 "nbformat_minor": 2
}
