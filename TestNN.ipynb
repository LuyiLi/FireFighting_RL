{
 "cells": [
  {
   "cell_type": "code",
   "execution_count": 1,
   "metadata": {},
   "outputs": [
    {
     "name": "stderr",
     "output_type": "stream",
     "text": [
      "/home/peter/anaconda3/envs/course_env/lib/python3.6/site-packages/tensorflow/python/framework/dtypes.py:523: FutureWarning: Passing (type, 1) or '1type' as a synonym of type is deprecated; in a future version of numpy, it will be understood as (type, (1,)) / '(1,)type'.\n",
      "  _np_qint8 = np.dtype([(\"qint8\", np.int8, 1)])\n",
      "/home/peter/anaconda3/envs/course_env/lib/python3.6/site-packages/tensorflow/python/framework/dtypes.py:524: FutureWarning: Passing (type, 1) or '1type' as a synonym of type is deprecated; in a future version of numpy, it will be understood as (type, (1,)) / '(1,)type'.\n",
      "  _np_quint8 = np.dtype([(\"quint8\", np.uint8, 1)])\n",
      "/home/peter/anaconda3/envs/course_env/lib/python3.6/site-packages/tensorflow/python/framework/dtypes.py:525: FutureWarning: Passing (type, 1) or '1type' as a synonym of type is deprecated; in a future version of numpy, it will be understood as (type, (1,)) / '(1,)type'.\n",
      "  _np_qint16 = np.dtype([(\"qint16\", np.int16, 1)])\n",
      "/home/peter/anaconda3/envs/course_env/lib/python3.6/site-packages/tensorflow/python/framework/dtypes.py:526: FutureWarning: Passing (type, 1) or '1type' as a synonym of type is deprecated; in a future version of numpy, it will be understood as (type, (1,)) / '(1,)type'.\n",
      "  _np_quint16 = np.dtype([(\"quint16\", np.uint16, 1)])\n",
      "/home/peter/anaconda3/envs/course_env/lib/python3.6/site-packages/tensorflow/python/framework/dtypes.py:527: FutureWarning: Passing (type, 1) or '1type' as a synonym of type is deprecated; in a future version of numpy, it will be understood as (type, (1,)) / '(1,)type'.\n",
      "  _np_qint32 = np.dtype([(\"qint32\", np.int32, 1)])\n",
      "/home/peter/anaconda3/envs/course_env/lib/python3.6/site-packages/tensorflow/python/framework/dtypes.py:532: FutureWarning: Passing (type, 1) or '1type' as a synonym of type is deprecated; in a future version of numpy, it will be understood as (type, (1,)) / '(1,)type'.\n",
      "  np_resource = np.dtype([(\"resource\", np.ubyte, 1)])\n"
     ]
    },
    {
     "name": "stdout",
     "output_type": "stream",
     "text": [
      "[name: \"/device:CPU:0\"\n",
      "device_type: \"CPU\"\n",
      "memory_limit: 268435456\n",
      "locality {\n",
      "}\n",
      "incarnation: 17790933386150550398\n",
      "]\n"
     ]
    }
   ],
   "source": [
    "import tensorflow as tf\n",
    "import numpy as np\n",
    "\n",
    "from ACNet import ACNet\n",
    "from FireFightingEnv import FFEnv\n",
    "\n",
    "from tensorflow.python.client import device_lib\n",
    "\n",
    "dev_list = device_lib.list_local_devices()\n",
    "print(dev_list)"
   ]
  },
  {
   "cell_type": "code",
   "execution_count": 2,
   "metadata": {},
   "outputs": [],
   "source": [
    "# __init__(self, observation_size=11, world0=None, goals0=None, DIAGONAL_MOVEMENT=False, SIZE=(10,40), PROB=(0,.5))\n",
    "# TODO: add support of size, prob, etc, to initialize FFEnv Momnent lah\n",
    "# Set agengt_num=1 for simplification. How to design a network support multi-agent? FIXED,follow idea 'batch'\n",
    "agent_num = 3\n",
    "\n",
    "env = FFEnv(agent_num=agent_num)"
   ]
  },
  {
   "cell_type": "code",
   "execution_count": 3,
   "metadata": {},
   "outputs": [
    {
     "data": {
      "image/png": "[encoded data removed]",
      "text/plain": [
       "<Figure size 1080x1080 with 1 Axes>"
      ]
     },
     "metadata": {
      "needs_background": "light"
     },
     "output_type": "display_data"
    }
   ],
   "source": [
    "env.mapEnv.plotAll()"
   ]
  },
  {
   "cell_type": "code",
   "execution_count": 4,
   "metadata": {},
   "outputs": [
    {
     "name": "stdout",
     "output_type": "stream",
     "text": [
      "[[1. 1. 1. 1. 1. 1. 1. 1. 1. 1. 1.]\n",
      " [1. 1. 1. 1. 1. 1. 1. 1. 1. 1. 1.]\n",
      " [0. 0. 0. 0. 0. 0. 1. 0. 1. 1. 1.]\n",
      " [1. 0. 0. 0. 0. 0. 0. 0. 1. 1. 1.]\n",
      " [1. 0. 0. 0. 0. 0. 0. 0. 1. 1. 1.]\n",
      " [0. 0. 0. 0. 0. 0. 0. 0. 1. 1. 1.]\n",
      " [0. 0. 0. 0. 0. 0. 1. 0. 1. 1. 1.]\n",
      " [1. 0. 0. 1. 0. 0. 0. 0. 1. 1. 1.]\n",
      " [0. 0. 0. 0. 0. 0. 1. 0. 1. 1. 1.]\n",
      " [0. 1. 0. 1. 1. 0. 0. 0. 1. 1. 1.]\n",
      " [0. 0. 0. 0. 0. 0. 1. 0. 1. 1. 1.]] \n",
      "\n",
      "[[0. 0. 0. 0. 0. 0. 0. 0. 0. 0. 0.]\n",
      " [0. 0. 0. 0. 0. 0. 0. 0. 0. 0. 0.]\n",
      " [0. 0. 0. 0. 0. 0. 0. 0. 0. 0. 0.]\n",
      " [0. 0. 0. 0. 0. 0. 0. 0. 0. 0. 0.]\n",
      " [0. 0. 0. 0. 0. 0. 0. 0. 0. 0. 0.]\n",
      " [0. 0. 0. 0. 0. 0. 0. 0. 0. 0. 0.]\n",
      " [0. 0. 0. 0. 0. 0. 0. 0. 0. 0. 0.]\n",
      " [0. 0. 0. 0. 0. 0. 0. 0. 0. 0. 0.]\n",
      " [0. 0. 0. 0. 0. 0. 0. 0. 0. 0. 0.]\n",
      " [0. 0. 0. 0. 0. 0. 0. 0. 0. 0. 0.]\n",
      " [0. 0. 0. 0. 0. 0. 0. 0. 0. 0. 0.]] \n",
      "\n",
      "[[0. 0. 0. 0. 0. 0. 0. 0. 0. 0. 0.]\n",
      " [0. 0. 0. 0. 0. 0. 0. 0. 0. 0. 0.]\n",
      " [0. 0. 0. 0. 0. 0. 0. 0. 0. 0. 0.]\n",
      " [0. 0. 0. 0. 0. 0. 0. 0. 0. 0. 0.]\n",
      " [0. 0. 0. 0. 0. 0. 0. 0. 0. 0. 0.]\n",
      " [0. 0. 0. 0. 1. 1. 0. 0. 0. 0. 0.]\n",
      " [0. 0. 0. 0. 0. 1. 0. 0. 0. 0. 0.]\n",
      " [0. 0. 0. 0. 0. 0. 0. 0. 0. 0. 0.]\n",
      " [0. 0. 0. 0. 0. 0. 0. 0. 0. 0. 0.]\n",
      " [0. 0. 0. 0. 0. 0. 0. 0. 0. 0. 0.]\n",
      " [0. 0. 0. 0. 0. 0. 0. 0. 0. 0. 0.]] \n",
      "\n",
      "[[0. 0. 0. 0. 0. 0. 0. 0. 0. 0. 0.]\n",
      " [0. 0. 0. 0. 0. 0. 0. 0. 0. 0. 0.]\n",
      " [0. 0. 0. 0. 0. 0. 0. 0. 0. 0. 0.]\n",
      " [0. 0. 0. 0. 0. 0. 0. 0. 0. 0. 0.]\n",
      " [0. 0. 0. 0. 0. 0. 0. 0. 0. 0. 0.]\n",
      " [0. 0. 0. 0. 0. 0. 0. 0. 0. 0. 0.]\n",
      " [0. 0. 0. 0. 0. 0. 0. 0. 0. 0. 0.]\n",
      " [0. 0. 0. 0. 0. 0. 0. 0. 0. 0. 0.]\n",
      " [0. 0. 0. 0. 0. 0. 0. 0. 0. 0. 0.]\n",
      " [0. 0. 0. 0. 0. 0. 0. 0. 0. 0. 0.]\n",
      " [0. 0. 0. 0. 0. 0. 0. 0. 0. 0. 0.]] \n",
      "\n",
      "10 \n",
      "\n"
     ]
    },
    {
     "name": "stderr",
     "output_type": "stream",
     "text": [
      "/home/peter/anaconda3/envs/course_env/lib/python3.6/site-packages/ipykernel_launcher.py:1: VisibleDeprecationWarning: Creating an ndarray from ragged nested sequences (which is a list-or-tuple of lists-or-tuples-or ndarrays with different lengths or shapes) is deprecated. If you meant to do this, you must specify 'dtype=object' when creating the ndarray\n",
      "  \"\"\"Entry point for launching an IPython kernel.\n"
     ]
    }
   ],
   "source": [
    "obs = np.array(env.observe_space)\n",
    "\n",
    "# obstacle map of agent[0]\n",
    "print(obs[0, 0], \"\\n\")\n",
    "# fire map of agent[0]\n",
    "print(obs[0, 1], \"\\n\")\n",
    "# agent map of agent[0]\n",
    "print(obs[0, 2], \"\\n\")\n",
    "# flammable map of agent[0]\n",
    "print(obs[0, 3], \"\\n\")\n",
    "# reserved water of agent[0]\n",
    "print(obs[0, 4], \"\\n\")\n"
   ]
  },
  {
   "cell_type": "code",
   "execution_count": 5,
   "metadata": {},
   "outputs": [
    {
     "name": "stdout",
     "output_type": "stream",
     "text": [
      "(3, 4, 11, 11)\n",
      "(3, 1)\n"
     ]
    }
   ],
   "source": [
    "# load data\n",
    "# list & NumPy array, that's a question (re: array is the best)\n",
    "inputs_raw = np.array(obs[:, :4])\n",
    "inputs = []\n",
    "for map in inputs_raw:\n",
    "    reshaped_map = [np.array(arr) for arr in map]\n",
    "    inputs.append(reshaped_map)\n",
    "inputs = np.array(inputs)\n",
    "print(inputs.shape)\n",
    "\n",
    "water_res = np.array(obs[:, 4]).reshape(-1,1)\n",
    "print(water_res.shape)"
   ]
  },
  {
   "cell_type": "code",
   "execution_count": 6,
   "metadata": {},
   "outputs": [
    {
     "name": "stdout",
     "output_type": "stream",
     "text": [
      "WARNING:tensorflow:From /home/peter/Desktop/ME5418_Git/FireFighting_RL/ACNet.py:96: BasicLSTMCell.__init__ (from tensorflow.python.ops.rnn_cell_impl) is deprecated and will be removed in a future version.\n",
      "Instructions for updating:\n",
      "This class is deprecated, please use tf.nn.rnn_cell.LSTMCell, which supports all the feature this cell currently has. Please replace the existing code with tf.nn.rnn_cell.LSTMCell(name='basic_lstm_cell').\n",
      "QAQ! The network is working!\n"
     ]
    }
   ],
   "source": [
    "# action size: 4 direction movements, stop, 4 direction spraying with 5 kinds of range each direction\n",
    "a_size = 5+4*5\n",
    "\n",
    "trainer = tf.contrib.opt.NadamOptimizer(learning_rate=1e-4)\n",
    "\n",
    "# __init__(self, scope, a, trainer, TRAINING, GRID_SIZE)\n",
    "net = ACNet( \"global\", a_size, trainer, True, 11)"
   ]
  },
  {
   "cell_type": "code",
   "execution_count": 7,
   "metadata": {},
   "outputs": [],
   "source": [
    "config = tf.ConfigProto()\n",
    "\n",
    "sess = tf.Session(config=config)\n",
    "\n",
    "sess.run(tf.global_variables_initializer()) # setting random weights for all layers of the network"
   ]
  },
  {
   "cell_type": "code",
   "execution_count": 8,
   "metadata": {},
   "outputs": [
    {
     "name": "stdout",
     "output_type": "stream",
     "text": [
      "[[0.03999085 0.03981172 0.04023175 0.04009644 0.04019327 0.03985499\n",
      "  0.04003425 0.04000971 0.04005359 0.04001584 0.04006009 0.03992101\n",
      "  0.04000583 0.03954796 0.04014407 0.03995515 0.04029475 0.03978802\n",
      "  0.03984383 0.0399855  0.04002237 0.04026001 0.03990893 0.04000651\n",
      "  0.03996345]\n",
      " [0.03991905 0.03970305 0.04037781 0.04018893 0.04032111 0.03975231\n",
      "  0.0400355  0.03998668 0.04010408 0.04008972 0.04014078 0.03984502\n",
      "  0.04003612 0.03927165 0.04023971 0.03991109 0.0404627  0.03964815\n",
      "  0.03979082 0.03994759 0.04004739 0.04043224 0.03982173 0.03999462\n",
      "  0.03993219]\n",
      " [0.03986954 0.03964576 0.04048575 0.04021185 0.04046544 0.03971361\n",
      "  0.04002923 0.03999193 0.04012426 0.0400793  0.04013828 0.03977528\n",
      "  0.04005517 0.03910769 0.04028532 0.03987864 0.04058619 0.03953281\n",
      "  0.03974076 0.03996511 0.04003919 0.04057946 0.03976605 0.03997466\n",
      "  0.0399587 ]]\n"
     ]
    }
   ],
   "source": [
    "rnn_state = net.state_init # (zeros(1,128), zeros(1,128))\n",
    "\n",
    "feed_dict = {\n",
    "    net.inputs: inputs,\n",
    "    net.water_res: water_res,\n",
    "    net.state_in[0]: rnn_state[0],\n",
    "    net.state_in[1]: rnn_state[1],\n",
    "}\n",
    "\n",
    "policy = sess.run(net.policy, feed_dict = feed_dict)\n",
    "print(policy)"
   ]
  },
  {
   "cell_type": "code",
   "execution_count": 52,
   "metadata": {},
   "outputs": [
    {
     "name": "stdout",
     "output_type": "stream",
     "text": [
      "[array([[[[1., 1., 1., ..., 1., 1., 1.],\n",
      "         [1., 1., 1., ..., 1., 1., 1.],\n",
      "         [0., 0., 0., ..., 1., 1., 1.],\n",
      "         ...,\n",
      "         [0., 0., 0., ..., 1., 1., 1.],\n",
      "         [0., 1., 0., ..., 1., 1., 1.],\n",
      "         [0., 0., 0., ..., 1., 1., 1.]],\n",
      "\n",
      "        [[0., 0., 0., ..., 0., 0., 0.],\n",
      "         [0., 0., 0., ..., 0., 0., 0.],\n",
      "         [0., 0., 0., ..., 0., 0., 0.],\n",
      "         ...,\n",
      "         [0., 0., 0., ..., 0., 0., 0.],\n",
      "         [0., 0., 0., ..., 0., 0., 0.],\n",
      "         [0., 0., 0., ..., 0., 0., 0.]],\n",
      "\n",
      "        [[0., 0., 0., ..., 0., 0., 0.],\n",
      "         [0., 0., 0., ..., 0., 0., 0.],\n",
      "         [0., 0., 1., ..., 0., 0., 0.],\n",
      "         ...,\n",
      "         [0., 0., 0., ..., 0., 0., 0.],\n",
      "         [0., 0., 0., ..., 0., 0., 0.],\n",
      "         [0., 0., 0., ..., 0., 0., 0.]],\n",
      "\n",
      "        [[0., 0., 0., ..., 0., 0., 0.],\n",
      "         [0., 0., 0., ..., 0., 0., 0.],\n",
      "         [0., 0., 0., ..., 0., 0., 0.],\n",
      "         ...,\n",
      "         [0., 0., 0., ..., 0., 0., 0.],\n",
      "         [0., 0., 0., ..., 0., 0., 0.],\n",
      "         [0., 0., 0., ..., 0., 0., 0.]]],\n",
      "\n",
      "\n",
      "       [[[1., 1., 1., ..., 1., 1., 1.],\n",
      "         [0., 0., 0., ..., 1., 1., 1.],\n",
      "         [1., 0., 0., ..., 1., 1., 1.],\n",
      "         ...,\n",
      "         [0., 1., 0., ..., 1., 1., 1.],\n",
      "         [0., 0., 0., ..., 1., 1., 1.],\n",
      "         [0., 0., 0., ..., 1., 1., 1.]],\n",
      "\n",
      "        [[0., 0., 0., ..., 0., 0., 0.],\n",
      "         [0., 0., 0., ..., 0., 0., 0.],\n",
      "         [0., 0., 0., ..., 0., 0., 0.],\n",
      "         ...,\n",
      "         [0., 0., 0., ..., 0., 0., 0.],\n",
      "         [0., 0., 0., ..., 0., 0., 0.],\n",
      "         [0., 0., 0., ..., 0., 0., 0.]],\n",
      "\n",
      "        [[0., 0., 0., ..., 0., 0., 0.],\n",
      "         [0., 0., 1., ..., 0., 0., 0.],\n",
      "         [0., 0., 0., ..., 0., 0., 0.],\n",
      "         ...,\n",
      "         [0., 0., 0., ..., 0., 0., 0.],\n",
      "         [0., 0., 0., ..., 0., 0., 0.],\n",
      "         [0., 0., 0., ..., 0., 0., 0.]],\n",
      "\n",
      "        [[0., 0., 0., ..., 0., 0., 0.],\n",
      "         [0., 0., 0., ..., 0., 0., 0.],\n",
      "         [0., 0., 0., ..., 0., 0., 0.],\n",
      "         ...,\n",
      "         [0., 0., 0., ..., 0., 0., 0.],\n",
      "         [0., 0., 0., ..., 0., 0., 0.],\n",
      "         [0., 0., 0., ..., 0., 0., 0.]]],\n",
      "\n",
      "\n",
      "       [[[1., 1., 1., ..., 1., 1., 1.],\n",
      "         [1., 1., 1., ..., 1., 1., 1.],\n",
      "         [0., 0., 0., ..., 0., 1., 1.],\n",
      "         ...,\n",
      "         [0., 0., 0., ..., 0., 1., 1.],\n",
      "         [1., 0., 1., ..., 0., 1., 1.],\n",
      "         [1., 0., 0., ..., 0., 1., 1.]],\n",
      "\n",
      "        [[0., 0., 0., ..., 0., 0., 0.],\n",
      "         [0., 0., 0., ..., 0., 0., 0.],\n",
      "         [0., 0., 0., ..., 0., 0., 0.],\n",
      "         ...,\n",
      "         [0., 0., 0., ..., 0., 0., 0.],\n",
      "         [0., 0., 0., ..., 0., 0., 0.],\n",
      "         [0., 0., 0., ..., 0., 0., 0.]],\n",
      "\n",
      "        [[0., 0., 0., ..., 0., 0., 0.],\n",
      "         [0., 0., 0., ..., 0., 0., 0.],\n",
      "         [0., 0., 0., ..., 0., 0., 0.],\n",
      "         ...,\n",
      "         [0., 0., 0., ..., 0., 0., 0.],\n",
      "         [0., 0., 0., ..., 0., 0., 0.],\n",
      "         [0., 0., 0., ..., 0., 0., 0.]],\n",
      "\n",
      "        [[0., 0., 0., ..., 0., 0., 0.],\n",
      "         [0., 0., 0., ..., 0., 0., 0.],\n",
      "         [0., 0., 0., ..., 0., 0., 0.],\n",
      "         ...,\n",
      "         [0., 0., 0., ..., 0., 0., 0.],\n",
      "         [0., 0., 0., ..., 0., 0., 0.],\n",
      "         [0., 0., 0., ..., 0., 0., 0.]]]]), array([[9],\n",
      "       [10],\n",
      "       [10]], dtype=object), [{0: 1, 1: 2, 2: 0, 3: 1}, {0: 3, 1: 0, 2: 1, 3: 0}, {0: 3, 1: 3, 2: 1, 3: 1}], array([-1., -1., -1.]), [{0: 1, 1: 2, 2: 0, 3: 1}, {0: 3, 1: 0, 2: 1, 3: 0}, {0: 3, 1: 3, 2: 1, 3: 1}]]\n"
     ]
    },
    {
     "name": "stderr",
     "output_type": "stream",
     "text": [
      "/home/peter/anaconda3/envs/course_env/lib/python3.6/site-packages/ipykernel_launcher.py:17: VisibleDeprecationWarning: Creating an ndarray from ragged nested sequences (which is a list-or-tuple of lists-or-tuples-or ndarrays with different lengths or shapes) is deprecated. If you meant to do this, you must specify 'dtype=object' when creating the ndarray\n"
     ]
    }
   ],
   "source": [
    "state = env.reset()\n",
    "episode_rollout = []\n",
    "\n",
    "actions = []\n",
    "for i in range(3):\n",
    "    actions.append(dict())\n",
    "\n",
    "for t in range(10):\n",
    "    for a in actions:\n",
    "        a[0] = np.random.choice([0, 1, 3, 3, 4])\n",
    "        a[1] = np.random.choice([0, 1, 2, 3, 4, 5])\n",
    "        a[2] = np.random.choice([0, 1, 2, 3, 4])\n",
    "        a[3] = np.random.choice([0, 1])\n",
    "\n",
    "    s1, rewards, done = env.step(actions)\n",
    "\n",
    "    state = np.array(state)\n",
    "    maps_raw = np.array(state[:, :4])\n",
    "    maps = []\n",
    "    for map in maps_raw:\n",
    "        reshaped_map = [np.array(arr) for arr in map]\n",
    "        maps.append(reshaped_map)\n",
    "    maps = np.array(maps)\n",
    "    \n",
    "    water = np.array(state[:, 4]).reshape(-1,1)\n",
    "\n",
    "    episode_rollout.append([maps, water, actions, rewards, actions])\n",
    "    state = s1[:]\n",
    "\n",
    "print(episode_rollout[0])"
   ]
  },
  {
   "cell_type": "code",
   "execution_count": 58,
   "metadata": {},
   "outputs": [
    {
     "name": "stdout",
     "output_type": "stream",
     "text": [
      "(10, 3, 4, 11, 11)\n",
      "(10, 3, 1)\n",
      "(10, 3)\n",
      "[[{0: 1, 1: 2, 2: 0, 3: 1} {0: 3, 1: 0, 2: 1, 3: 0}\n",
      "  {0: 3, 1: 3, 2: 1, 3: 1}]\n",
      " [{0: 1, 1: 2, 2: 0, 3: 1} {0: 3, 1: 0, 2: 1, 3: 0}\n",
      "  {0: 3, 1: 3, 2: 1, 3: 1}]\n",
      " [{0: 1, 1: 2, 2: 0, 3: 1} {0: 3, 1: 0, 2: 1, 3: 0}\n",
      "  {0: 3, 1: 3, 2: 1, 3: 1}]\n",
      " [{0: 1, 1: 2, 2: 0, 3: 1} {0: 3, 1: 0, 2: 1, 3: 0}\n",
      "  {0: 3, 1: 3, 2: 1, 3: 1}]\n",
      " [{0: 1, 1: 2, 2: 0, 3: 1} {0: 3, 1: 0, 2: 1, 3: 0}\n",
      "  {0: 3, 1: 3, 2: 1, 3: 1}]\n",
      " [{0: 1, 1: 2, 2: 0, 3: 1} {0: 3, 1: 0, 2: 1, 3: 0}\n",
      "  {0: 3, 1: 3, 2: 1, 3: 1}]\n",
      " [{0: 1, 1: 2, 2: 0, 3: 1} {0: 3, 1: 0, 2: 1, 3: 0}\n",
      "  {0: 3, 1: 3, 2: 1, 3: 1}]\n",
      " [{0: 1, 1: 2, 2: 0, 3: 1} {0: 3, 1: 0, 2: 1, 3: 0}\n",
      "  {0: 3, 1: 3, 2: 1, 3: 1}]\n",
      " [{0: 1, 1: 2, 2: 0, 3: 1} {0: 3, 1: 0, 2: 1, 3: 0}\n",
      "  {0: 3, 1: 3, 2: 1, 3: 1}]\n",
      " [{0: 1, 1: 2, 2: 0, 3: 1} {0: 3, 1: 0, 2: 1, 3: 0}\n",
      "  {0: 3, 1: 3, 2: 1, 3: 1}]]\n",
      "(10, 3)\n",
      "[[-1. -1. -1.]\n",
      " [-1. -1. -1.]\n",
      " [-1. -1. -1.]\n",
      " [-1. -1. -1.]\n",
      " [-1. -1. -1.]\n",
      " [-1. -1. -1.]\n",
      " [-1. -1. -1.]\n",
      " [-1. -1. -1.]\n",
      " [-1. -1. -1.]\n",
      " [-1. -1. -1.]]\n"
     ]
    }
   ],
   "source": [
    "inputs    = np.array([item[0] for item in episode_rollout])\n",
    "water_res = np.array([item[1] for item in episode_rollout])\n",
    "actions   = np.array([item[2] for item in episode_rollout])\n",
    "rewards   = np.array([item[3] for item in episode_rollout])\n",
    "valids    = np.array([item[4] for item in episode_rollout])\n",
    "print(np.shape(inputs))\n",
    "print(np.shape(water_res))\n",
    "print(np.shape(actions))\n",
    "print(actions)\n",
    "print(np.shape(rewards))\n",
    "print(rewards)"
   ]
  },
  {
   "cell_type": "code",
   "execution_count": 12,
   "metadata": {},
   "outputs": [
    {
     "name": "stderr",
     "output_type": "stream",
     "text": [
      "/home/peter/.local/lib/python3.6/site-packages/numpy/core/_asarray.py:136: VisibleDeprecationWarning: Creating an ndarray from ragged nested sequences (which is a list-or-tuple of lists-or-tuples-or ndarrays with different lengths or shapes) is deprecated. If you meant to do this, you must specify 'dtype=object' when creating the ndarray\n",
      "  return array(a, dtype, copy=False, order=order, subok=True)\n"
     ]
    },
    {
     "ename": "ValueError",
     "evalue": "setting an array element with a sequence.",
     "output_type": "error",
     "traceback": [
      "\u001b[0;31m---------------------------------------------------------------------------\u001b[0m",
      "\u001b[0;31mTypeError\u001b[0m                                 Traceback (most recent call last)",
      "\u001b[0;31mTypeError\u001b[0m: only size-1 arrays can be converted to Python scalars",
      "\nThe above exception was the direct cause of the following exception:\n",
      "\u001b[0;31mValueError\u001b[0m                                Traceback (most recent call last)",
      "\u001b[0;32m<ipython-input-12-3d157b8edd7d>\u001b[0m in \u001b[0;36m<module>\u001b[0;34m\u001b[0m\n\u001b[1;32m     31\u001b[0m                                       \u001b[0mnet\u001b[0m\u001b[0;34m.\u001b[0m\u001b[0mvalid_loss\u001b[0m\u001b[0;34m,\u001b[0m\u001b[0;34m\u001b[0m\u001b[0;34m\u001b[0m\u001b[0m\n\u001b[1;32m     32\u001b[0m                                       \u001b[0mnet\u001b[0m\u001b[0;34m.\u001b[0m\u001b[0mgrad_norms\u001b[0m\u001b[0;34m,\u001b[0m\u001b[0;34m\u001b[0m\u001b[0;34m\u001b[0m\u001b[0m\n\u001b[0;32m---> 33\u001b[0;31m                                       net.apply_grads], feed_dict=feed_dict)\n\u001b[0m\u001b[1;32m     34\u001b[0m \u001b[0;34m\u001b[0m\u001b[0m\n\u001b[1;32m     35\u001b[0m \u001b[0mprint\u001b[0m\u001b[0;34m(\u001b[0m\u001b[0mv_l\u001b[0m\u001b[0;34m,\u001b[0m \u001b[0mp_l\u001b[0m\u001b[0;34m,\u001b[0m \u001b[0mvalid_l\u001b[0m\u001b[0;34m,\u001b[0m \u001b[0mg_n\u001b[0m\u001b[0;34m)\u001b[0m\u001b[0;34m\u001b[0m\u001b[0;34m\u001b[0m\u001b[0m\n",
      "\u001b[0;32m~/anaconda3/envs/course_env/lib/python3.6/site-packages/tensorflow/python/client/session.py\u001b[0m in \u001b[0;36mrun\u001b[0;34m(self, fetches, feed_dict, options, run_metadata)\u001b[0m\n\u001b[1;32m    885\u001b[0m     \u001b[0;32mtry\u001b[0m\u001b[0;34m:\u001b[0m\u001b[0;34m\u001b[0m\u001b[0;34m\u001b[0m\u001b[0m\n\u001b[1;32m    886\u001b[0m       result = self._run(None, fetches, feed_dict, options_ptr,\n\u001b[0;32m--> 887\u001b[0;31m                          run_metadata_ptr)\n\u001b[0m\u001b[1;32m    888\u001b[0m       \u001b[0;32mif\u001b[0m \u001b[0mrun_metadata\u001b[0m\u001b[0;34m:\u001b[0m\u001b[0;34m\u001b[0m\u001b[0;34m\u001b[0m\u001b[0m\n\u001b[1;32m    889\u001b[0m         \u001b[0mproto_data\u001b[0m \u001b[0;34m=\u001b[0m \u001b[0mtf_session\u001b[0m\u001b[0;34m.\u001b[0m\u001b[0mTF_GetBuffer\u001b[0m\u001b[0;34m(\u001b[0m\u001b[0mrun_metadata_ptr\u001b[0m\u001b[0;34m)\u001b[0m\u001b[0;34m\u001b[0m\u001b[0;34m\u001b[0m\u001b[0m\n",
      "\u001b[0;32m~/anaconda3/envs/course_env/lib/python3.6/site-packages/tensorflow/python/client/session.py\u001b[0m in \u001b[0;36m_run\u001b[0;34m(self, handle, fetches, feed_dict, options, run_metadata)\u001b[0m\n\u001b[1;32m   1077\u001b[0m             \u001b[0mfeed_handles\u001b[0m\u001b[0;34m[\u001b[0m\u001b[0msubfeed_t\u001b[0m\u001b[0;34m]\u001b[0m \u001b[0;34m=\u001b[0m \u001b[0msubfeed_val\u001b[0m\u001b[0;34m\u001b[0m\u001b[0;34m\u001b[0m\u001b[0m\n\u001b[1;32m   1078\u001b[0m           \u001b[0;32melse\u001b[0m\u001b[0;34m:\u001b[0m\u001b[0;34m\u001b[0m\u001b[0;34m\u001b[0m\u001b[0m\n\u001b[0;32m-> 1079\u001b[0;31m             \u001b[0mnp_val\u001b[0m \u001b[0;34m=\u001b[0m \u001b[0mnp\u001b[0m\u001b[0;34m.\u001b[0m\u001b[0masarray\u001b[0m\u001b[0;34m(\u001b[0m\u001b[0msubfeed_val\u001b[0m\u001b[0;34m,\u001b[0m \u001b[0mdtype\u001b[0m\u001b[0;34m=\u001b[0m\u001b[0msubfeed_dtype\u001b[0m\u001b[0;34m)\u001b[0m\u001b[0;34m\u001b[0m\u001b[0;34m\u001b[0m\u001b[0m\n\u001b[0m\u001b[1;32m   1080\u001b[0m \u001b[0;34m\u001b[0m\u001b[0m\n\u001b[1;32m   1081\u001b[0m           if (not is_tensor_handle_feed and\n",
      "\u001b[0;32m~/.local/lib/python3.6/site-packages/numpy/core/_asarray.py\u001b[0m in \u001b[0;36masarray\u001b[0;34m(a, dtype, order)\u001b[0m\n\u001b[1;32m     81\u001b[0m \u001b[0;34m\u001b[0m\u001b[0m\n\u001b[1;32m     82\u001b[0m     \"\"\"\n\u001b[0;32m---> 83\u001b[0;31m     \u001b[0;32mreturn\u001b[0m \u001b[0marray\u001b[0m\u001b[0;34m(\u001b[0m\u001b[0ma\u001b[0m\u001b[0;34m,\u001b[0m \u001b[0mdtype\u001b[0m\u001b[0;34m,\u001b[0m \u001b[0mcopy\u001b[0m\u001b[0;34m=\u001b[0m\u001b[0;32mFalse\u001b[0m\u001b[0;34m,\u001b[0m \u001b[0morder\u001b[0m\u001b[0;34m=\u001b[0m\u001b[0morder\u001b[0m\u001b[0;34m)\u001b[0m\u001b[0;34m\u001b[0m\u001b[0;34m\u001b[0m\u001b[0m\n\u001b[0m\u001b[1;32m     84\u001b[0m \u001b[0;34m\u001b[0m\u001b[0m\n\u001b[1;32m     85\u001b[0m \u001b[0;34m\u001b[0m\u001b[0m\n",
      "\u001b[0;31mValueError\u001b[0m: setting an array element with a sequence."
     ]
    }
   ],
   "source": [
    "# inputs    = rollout[:][0] # 10x3x11x11x4\n",
    "# water_res = rollout[:,1] # 10x3x1\n",
    "# actions   = rollout[:,2] # 10x3x1 FIXME!!!\n",
    "# rewards   = rollout[:,3] # 10x3x1 FIXME!!!\n",
    "# valids    = rollout[:,4] # 10x3x25 FIXME!!!\n",
    "\n",
    "\n",
    "# In practice: calculate long-term cumulative discounted rewards from episode rewards here\n",
    "# --> net.target_v\n",
    "\n",
    "# In practice: calculate advantages estimates (TD-error) here\n",
    "# --> net.advantages\n",
    "\n",
    "\n",
    "rnn_state = net.state_init\n",
    "feed_dict = {\n",
    "    net.inputs:      np.stack(inputs),\n",
    "    net.water_res:   np.stack(water_res),\n",
    "    net.actions:     np.stack(actions),\n",
    "\n",
    "    net.target_v:    np.stack(rewards),\n",
    "    net.advantages:  np.stack(rewards),\n",
    "\n",
    "    net.train_valid: np.stack(valids),\n",
    "    net.state_in[0]: rnn_state[0],\n",
    "    net.state_in[1]: rnn_state[1]\n",
    "}\n",
    "\n",
    "v_l, p_l, valid_l, g_n, _ = sess.run([net.value_loss,\n",
    "                                      net.policy_loss,\n",
    "                                      net.valid_loss,\n",
    "                                      net.grad_norms,\n",
    "                                      net.apply_grads], feed_dict=feed_dict)\n",
    "\n",
    "print(v_l, p_l, valid_l, g_n)"
   ]
  }
 ],
 "metadata": {
  "kernelspec": {
   "display_name": "course_env",
   "language": "python",
   "name": "python3"
  },
  "language_info": {
   "codemirror_mode": {
    "name": "ipython",
    "version": 3
   },
   "file_extension": ".py",
   "mimetype": "text/x-python",
   "name": "python",
   "nbconvert_exporter": "python",
   "pygments_lexer": "ipython3",
   "version": "3.6.10"
  }
 },
 "nbformat": 4,
 "nbformat_minor": 2
}
