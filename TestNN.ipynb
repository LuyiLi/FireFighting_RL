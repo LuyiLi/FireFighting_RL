{
 "cells": [
  {
   "cell_type": "code",
   "execution_count": 1,
   "metadata": {},
   "outputs": [
    {
     "name": "stderr",
     "output_type": "stream",
     "text": [
      "/home/peter/anaconda3/envs/course_env/lib/python3.6/site-packages/tensorflow/python/framework/dtypes.py:523: FutureWarning: Passing (type, 1) or '1type' as a synonym of type is deprecated; in a future version of numpy, it will be understood as (type, (1,)) / '(1,)type'.\n",
      "  _np_qint8 = np.dtype([(\"qint8\", np.int8, 1)])\n",
      "/home/peter/anaconda3/envs/course_env/lib/python3.6/site-packages/tensorflow/python/framework/dtypes.py:524: FutureWarning: Passing (type, 1) or '1type' as a synonym of type is deprecated; in a future version of numpy, it will be understood as (type, (1,)) / '(1,)type'.\n",
      "  _np_quint8 = np.dtype([(\"quint8\", np.uint8, 1)])\n",
      "/home/peter/anaconda3/envs/course_env/lib/python3.6/site-packages/tensorflow/python/framework/dtypes.py:525: FutureWarning: Passing (type, 1) or '1type' as a synonym of type is deprecated; in a future version of numpy, it will be understood as (type, (1,)) / '(1,)type'.\n",
      "  _np_qint16 = np.dtype([(\"qint16\", np.int16, 1)])\n",
      "/home/peter/anaconda3/envs/course_env/lib/python3.6/site-packages/tensorflow/python/framework/dtypes.py:526: FutureWarning: Passing (type, 1) or '1type' as a synonym of type is deprecated; in a future version of numpy, it will be understood as (type, (1,)) / '(1,)type'.\n",
      "  _np_quint16 = np.dtype([(\"quint16\", np.uint16, 1)])\n",
      "/home/peter/anaconda3/envs/course_env/lib/python3.6/site-packages/tensorflow/python/framework/dtypes.py:527: FutureWarning: Passing (type, 1) or '1type' as a synonym of type is deprecated; in a future version of numpy, it will be understood as (type, (1,)) / '(1,)type'.\n",
      "  _np_qint32 = np.dtype([(\"qint32\", np.int32, 1)])\n",
      "/home/peter/anaconda3/envs/course_env/lib/python3.6/site-packages/tensorflow/python/framework/dtypes.py:532: FutureWarning: Passing (type, 1) or '1type' as a synonym of type is deprecated; in a future version of numpy, it will be understood as (type, (1,)) / '(1,)type'.\n",
      "  np_resource = np.dtype([(\"resource\", np.ubyte, 1)])\n"
     ]
    },
    {
     "name": "stdout",
     "output_type": "stream",
     "text": [
      "[name: \"/device:CPU:0\"\n",
      "device_type: \"CPU\"\n",
      "memory_limit: 268435456\n",
      "locality {\n",
      "}\n",
      "incarnation: 17023182634486902767\n",
      "]\n"
     ]
    }
   ],
   "source": [
    "import tensorflow as tf\n",
    "import numpy as np\n",
    "\n",
    "from ACNet import ACNet\n",
    "from FireFightingEnv import FFEnv\n",
    "\n",
    "from tensorflow.python.client import device_lib\n",
    "\n",
    "dev_list = device_lib.list_local_devices()\n",
    "print(dev_list)"
   ]
  },
  {
   "cell_type": "code",
   "execution_count": 2,
   "metadata": {},
   "outputs": [],
   "source": [
    "# __init__(self, observation_size=11, world0=None, goals0=None, DIAGONAL_MOVEMENT=False, SIZE=(10,40), PROB=(0,.5))\n",
    "# TODO: add support of size, prob, etc, to initialize FFEnv Momnent lah\n",
    "# Set agengt_num=1 for simplification. How to design a network support multi-agent? FIXED,follow idea 'batch'\n",
    "agent_num = 3\n",
    "\n",
    "env = FFEnv(agent_num=agent_num)"
   ]
  },
  {
   "cell_type": "code",
   "execution_count": 3,
   "metadata": {},
   "outputs": [
    {
     "data": {
      "image/png": "[encoded data removed]",
      "text/plain": [
       "<Figure size 1080x1080 with 1 Axes>"
      ]
     },
     "metadata": {
      "needs_background": "light"
     },
     "output_type": "display_data"
    }
   ],
   "source": [
    "env.mapEnv.plotAll()"
   ]
  },
  {
   "cell_type": "code",
   "execution_count": 4,
   "metadata": {},
   "outputs": [
    {
     "name": "stdout",
     "output_type": "stream",
     "text": [
      "[[0. 0. 0. 1. 1. 1. 0. 1. 0. 0. 0.]\n",
      " [0. 0. 0. 0. 0. 1. 0. 0. 0. 0. 1.]\n",
      " [0. 0. 1. 0. 1. 1. 0. 0. 0. 1. 0.]\n",
      " [1. 0. 1. 0. 0. 0. 0. 0. 0. 0. 0.]\n",
      " [0. 0. 1. 0. 1. 0. 0. 0. 0. 0. 1.]\n",
      " [1. 0. 0. 0. 0. 0. 0. 0. 0. 0. 0.]\n",
      " [0. 0. 0. 0. 0. 0. 0. 0. 1. 0. 1.]\n",
      " [0. 0. 0. 0. 0. 0. 0. 0. 0. 1. 0.]\n",
      " [0. 0. 0. 0. 0. 0. 0. 0. 0. 0. 0.]\n",
      " [1. 0. 0. 0. 0. 0. 0. 0. 0. 0. 0.]\n",
      " [1. 1. 1. 1. 1. 1. 1. 1. 1. 1. 1.]] \n",
      "\n",
      "[[0.  0.  0.  0.  0.  0.  0.  0.  0.  0.  0. ]\n",
      " [0.  0.  0.  0.  0.  0.  0.  0.  0.  0.  0. ]\n",
      " [0.  0.  0.  0.  0.  0.  0.  0.  0.  0.  0. ]\n",
      " [0.  0.  0.  0.8 0.  0.  0.  0.  0.  0.  0. ]\n",
      " [0.  0.  0.  0.  0.  0.  0.  0.  0.  0.  0. ]\n",
      " [0.  0.  0.  0.  0.  0.  0.  0.  0.  0.  0. ]\n",
      " [0.  0.  0.  0.  0.  0.  0.  0.  0.  0.  0. ]\n",
      " [0.  0.  0.  0.  0.  0.  0.  0.  0.  0.  0. ]\n",
      " [0.  0.  0.  0.  0.  0.  0.4 0.  0.  0.  0. ]\n",
      " [0.  0.  0.  0.  0.  0.  0.  0.  0.  0.  0. ]\n",
      " [0.  0.  0.  0.  0.  0.  0.  0.  0.  0.  0. ]] \n",
      "\n",
      "[[0. 0. 0. 0. 0. 0. 0. 0. 0. 0. 0.]\n",
      " [0. 0. 0. 0. 0. 0. 0. 0. 0. 0. 0.]\n",
      " [0. 0. 0. 0. 0. 0. 0. 0. 0. 0. 0.]\n",
      " [0. 0. 0. 0. 0. 0. 0. 0. 0. 0. 0.]\n",
      " [0. 0. 0. 0. 0. 0. 0. 0. 0. 0. 0.]\n",
      " [0. 0. 0. 0. 0. 1. 0. 0. 0. 0. 0.]\n",
      " [0. 0. 0. 0. 1. 1. 0. 0. 0. 0. 0.]\n",
      " [0. 0. 0. 0. 0. 0. 0. 0. 0. 0. 0.]\n",
      " [0. 0. 0. 0. 0. 0. 0. 0. 0. 0. 0.]\n",
      " [0. 0. 0. 0. 0. 0. 0. 0. 0. 0. 0.]\n",
      " [0. 0. 0. 0. 0. 0. 0. 0. 0. 0. 0.]] \n",
      "\n",
      "[[0. 0. 0. 0. 0. 0. 0. 0. 0. 0. 0.]\n",
      " [0. 0. 0. 0. 0. 0. 0. 0. 0. 0. 0.]\n",
      " [0. 0. 0. 0. 0. 0. 0. 0. 0. 0. 0.]\n",
      " [0. 0. 0. 0. 0. 0. 0. 0. 0. 0. 0.]\n",
      " [0. 0. 0. 0. 0. 0. 0. 0. 0. 0. 0.]\n",
      " [0. 0. 0. 0. 0. 0. 0. 0. 0. 0. 0.]\n",
      " [0. 0. 0. 0. 0. 0. 0. 0. 0. 0. 0.]\n",
      " [0. 0. 0. 0. 0. 0. 0. 0. 0. 0. 0.]\n",
      " [0. 0. 0. 0. 0. 0. 0. 0. 0. 0. 0.]\n",
      " [0. 0. 0. 0. 0. 0. 0. 0. 0. 0. 0.]\n",
      " [0. 0. 0. 0. 0. 0. 0. 0. 0. 0. 0.]] \n",
      "\n",
      "10 \n",
      "\n"
     ]
    },
    {
     "name": "stderr",
     "output_type": "stream",
     "text": [
      "/home/peter/anaconda3/envs/course_env/lib/python3.6/site-packages/ipykernel_launcher.py:1: VisibleDeprecationWarning: Creating an ndarray from ragged nested sequences (which is a list-or-tuple of lists-or-tuples-or ndarrays with different lengths or shapes) is deprecated. If you meant to do this, you must specify 'dtype=object' when creating the ndarray\n",
      "  \"\"\"Entry point for launching an IPython kernel.\n"
     ]
    }
   ],
   "source": [
    "obs = np.array(env.observe_space)\n",
    "\n",
    "# obstacle map of agent[0]\n",
    "print(obs[0, 0], \"\\n\")\n",
    "# fire map of agent[0]\n",
    "print(obs[0, 1], \"\\n\")\n",
    "# agent map of agent[0]\n",
    "print(obs[0, 2], \"\\n\")\n",
    "# flammable map of agent[0]\n",
    "print(obs[0, 3], \"\\n\")\n",
    "# reserved water of agent[0]\n",
    "print(obs[0, 4], \"\\n\")\n"
   ]
  },
  {
   "cell_type": "code",
   "execution_count": 5,
   "metadata": {},
   "outputs": [
    {
     "name": "stdout",
     "output_type": "stream",
     "text": [
      "(3, 4, 11, 11)\n",
      "(3, 1)\n"
     ]
    }
   ],
   "source": [
    "# load data\n",
    "# list & NumPy array, that's a question (re: array is the best)\n",
    "inputs_raw = np.array(obs[:, :4])\n",
    "inputs = []\n",
    "for map in inputs_raw:\n",
    "    reshaped_map = [np.array(arr) for arr in map]\n",
    "    inputs.append(reshaped_map)\n",
    "inputs = np.array(inputs)\n",
    "print(inputs.shape)\n",
    "\n",
    "water_res = np.array(obs[:, 4]).reshape(-1,1)\n",
    "print(water_res.shape)"
   ]
  },
  {
   "cell_type": "code",
   "execution_count": 6,
   "metadata": {},
   "outputs": [
    {
     "name": "stdout",
     "output_type": "stream",
     "text": [
      "WARNING:tensorflow:From /home/peter/Desktop/ME5418_Git/FireFighting_RL/ACNet.py:99: BasicLSTMCell.__init__ (from tensorflow.python.ops.rnn_cell_impl) is deprecated and will be removed in a future version.\n",
      "Instructions for updating:\n",
      "This class is deprecated, please use tf.nn.rnn_cell.LSTMCell, which supports all the feature this cell currently has. Please replace the existing code with tf.nn.rnn_cell.LSTMCell(name='basic_lstm_cell').\n",
      "QAQ! The network is working!\n"
     ]
    }
   ],
   "source": [
    "# action size: 4 direction movements, stop, 4 direction spraying with 5 kinds of range each direction\n",
    "# consider a_size = 5 first (4 direction movements + stop)\n",
    "# a_size = 5+4*5\n",
    "a_size = 5\n",
    "\n",
    "trainer = tf.contrib.opt.NadamOptimizer(learning_rate=1e-4)\n",
    "\n",
    "# __init__(self, scope, a, trainer, TRAINING, GRID_SIZE)\n",
    "net = ACNet( \"global\", a_size, trainer, True, 11)"
   ]
  },
  {
   "cell_type": "code",
   "execution_count": 7,
   "metadata": {},
   "outputs": [],
   "source": [
    "config = tf.ConfigProto()\n",
    "\n",
    "sess = tf.Session(config=config)\n",
    "\n",
    "sess.run(tf.global_variables_initializer()) # setting random weights for all layers of the network"
   ]
  },
  {
   "cell_type": "code",
   "execution_count": 8,
   "metadata": {},
   "outputs": [
    {
     "name": "stdout",
     "output_type": "stream",
     "text": [
      "[[0.20311205 0.20603512 0.19317864 0.20055288 0.19712129]\n",
      " [0.20454368 0.21029203 0.1901655  0.20032509 0.1946737 ]\n",
      " [0.20536941 0.2137878  0.18801193 0.20036626 0.19246463]]\n"
     ]
    }
   ],
   "source": [
    "rnn_state = net.state_init # (zeros(1,128), zeros(1,128))\n",
    "\n",
    "feed_dict = {\n",
    "    net.inputs: inputs,\n",
    "    net.water_res: water_res,\n",
    "    net.state_in[0]: rnn_state[0],\n",
    "    net.state_in[1]: rnn_state[1],\n",
    "}\n",
    "\n",
    "policy = sess.run(net.policy, feed_dict = feed_dict)\n",
    "print(policy)"
   ]
  },
  {
   "cell_type": "code",
   "execution_count": 9,
   "metadata": {},
   "outputs": [
    {
     "name": "stderr",
     "output_type": "stream",
     "text": [
      "/home/peter/anaconda3/envs/course_env/lib/python3.6/site-packages/ipykernel_launcher.py:20: VisibleDeprecationWarning: Creating an ndarray from ragged nested sequences (which is a list-or-tuple of lists-or-tuples-or ndarrays with different lengths or shapes) is deprecated. If you meant to do this, you must specify 'dtype=object' when creating the ndarray\n"
     ]
    }
   ],
   "source": [
    "state = env.reset()\n",
    "episode_rollout = []\n",
    "iteration = 10\n",
    "\n",
    "actions = []\n",
    "for i in range(3):\n",
    "    actions.append([[], [], [], []])\n",
    "\n",
    "for t in range(iteration):\n",
    "    # 4 parameter to describe 1 action\n",
    "    # Moving direction, spraying distance, spraying direction, help bacon\n",
    "    for a in actions:\n",
    "        a[0] = np.random.choice([0, 1, 2, 3, 4])\n",
    "        a[1] = np.random.choice([0, 1, 2, 3, 4, 5])\n",
    "        a[2] = np.random.choice([0, 1, 2, 3, 4])\n",
    "        a[3] = np.random.choice([0, 1])\n",
    "\n",
    "    s1, rewards, done = env.step(actions)\n",
    "\n",
    "    state = np.array(state)\n",
    "    maps_raw = np.array(state[:, :4])\n",
    "    maps = []\n",
    "    for map in maps_raw:\n",
    "        reshaped_map = [np.array(arr) for arr in map]\n",
    "        maps.append(reshaped_map)\n",
    "    maps = np.array(maps)\n",
    "    \n",
    "    water = np.array(state[:, 4]).reshape(-1,1)\n",
    "\n",
    "    episode_rollout.append([maps, water, actions, rewards])\n",
    "    state = s1[:]"
   ]
  },
  {
   "cell_type": "code",
   "execution_count": 10,
   "metadata": {},
   "outputs": [
    {
     "name": "stdout",
     "output_type": "stream",
     "text": [
      "(30, 4, 11, 11)\n",
      "(30, 1)\n",
      "(30, 4)\n",
      "(30, 1)\n"
     ]
    }
   ],
   "source": [
    "# batch_size, channel, map_size[0], map_size[1]\n",
    "inputs    = np.array([item[0] for item in episode_rollout]).reshape(iteration*agent_num, 4, 11, 11)\n",
    "# batch_size, water_reserved\n",
    "water_res = np.array([item[1] for item in episode_rollout]).reshape(iteration*agent_num, 1)\n",
    "# batch_size, action_parameters\n",
    "actions   = np.array([item[2] for item in episode_rollout]).reshape(iteration*agent_num, 4)\n",
    "# batch_size, reward\n",
    "rewards   = np.array([item[3] for item in episode_rollout]).reshape(iteration*agent_num, 1)\n",
    "print(np.shape(inputs))\n",
    "print(np.shape(water_res))\n",
    "print(np.shape(actions))\n",
    "print(np.shape(rewards))"
   ]
  },
  {
   "cell_type": "code",
   "execution_count": 13,
   "metadata": {},
   "outputs": [
    {
     "ename": "ValueError",
     "evalue": "Cannot feed value of shape (30, 4) for Tensor 'Placeholder:0', which has shape '(?,)'",
     "output_type": "error",
     "traceback": [
      "\u001b[0;31m---------------------------------------------------------------------------\u001b[0m",
      "\u001b[0;31mValueError\u001b[0m                                Traceback (most recent call last)",
      "\u001b[0;32m<ipython-input-13-949a86fc15ee>\u001b[0m in \u001b[0;36m<module>\u001b[0;34m\u001b[0m\n\u001b[1;32m     29\u001b[0m                                       \u001b[0mnet\u001b[0m\u001b[0;34m.\u001b[0m\u001b[0mpolicy_loss\u001b[0m\u001b[0;34m,\u001b[0m\u001b[0;34m\u001b[0m\u001b[0;34m\u001b[0m\u001b[0m\n\u001b[1;32m     30\u001b[0m                                       \u001b[0mnet\u001b[0m\u001b[0;34m.\u001b[0m\u001b[0mgrad_norms\u001b[0m\u001b[0;34m,\u001b[0m\u001b[0;34m\u001b[0m\u001b[0;34m\u001b[0m\u001b[0m\n\u001b[0;32m---> 31\u001b[0;31m                                       net.apply_grads], feed_dict=feed_dict)\n\u001b[0m\u001b[1;32m     32\u001b[0m \u001b[0;34m\u001b[0m\u001b[0m\n\u001b[1;32m     33\u001b[0m \u001b[0mprint\u001b[0m\u001b[0;34m(\u001b[0m\u001b[0mv_l\u001b[0m\u001b[0;34m,\u001b[0m \u001b[0mp_l\u001b[0m\u001b[0;34m,\u001b[0m \u001b[0mvalid_l\u001b[0m\u001b[0;34m,\u001b[0m \u001b[0mg_n\u001b[0m\u001b[0;34m)\u001b[0m\u001b[0;34m\u001b[0m\u001b[0;34m\u001b[0m\u001b[0m\n",
      "\u001b[0;32m~/anaconda3/envs/course_env/lib/python3.6/site-packages/tensorflow/python/client/session.py\u001b[0m in \u001b[0;36mrun\u001b[0;34m(self, fetches, feed_dict, options, run_metadata)\u001b[0m\n\u001b[1;32m    885\u001b[0m     \u001b[0;32mtry\u001b[0m\u001b[0;34m:\u001b[0m\u001b[0;34m\u001b[0m\u001b[0;34m\u001b[0m\u001b[0m\n\u001b[1;32m    886\u001b[0m       result = self._run(None, fetches, feed_dict, options_ptr,\n\u001b[0;32m--> 887\u001b[0;31m                          run_metadata_ptr)\n\u001b[0m\u001b[1;32m    888\u001b[0m       \u001b[0;32mif\u001b[0m \u001b[0mrun_metadata\u001b[0m\u001b[0;34m:\u001b[0m\u001b[0;34m\u001b[0m\u001b[0;34m\u001b[0m\u001b[0m\n\u001b[1;32m    889\u001b[0m         \u001b[0mproto_data\u001b[0m \u001b[0;34m=\u001b[0m \u001b[0mtf_session\u001b[0m\u001b[0;34m.\u001b[0m\u001b[0mTF_GetBuffer\u001b[0m\u001b[0;34m(\u001b[0m\u001b[0mrun_metadata_ptr\u001b[0m\u001b[0;34m)\u001b[0m\u001b[0;34m\u001b[0m\u001b[0;34m\u001b[0m\u001b[0m\n",
      "\u001b[0;32m~/anaconda3/envs/course_env/lib/python3.6/site-packages/tensorflow/python/client/session.py\u001b[0m in \u001b[0;36m_run\u001b[0;34m(self, handle, fetches, feed_dict, options, run_metadata)\u001b[0m\n\u001b[1;32m   1084\u001b[0m                              \u001b[0;34m'which has shape %r'\u001b[0m \u001b[0;34m%\u001b[0m\u001b[0;34m\u001b[0m\u001b[0;34m\u001b[0m\u001b[0m\n\u001b[1;32m   1085\u001b[0m                              (np_val.shape, subfeed_t.name,\n\u001b[0;32m-> 1086\u001b[0;31m                               str(subfeed_t.get_shape())))\n\u001b[0m\u001b[1;32m   1087\u001b[0m           \u001b[0;32mif\u001b[0m \u001b[0;32mnot\u001b[0m \u001b[0mself\u001b[0m\u001b[0;34m.\u001b[0m\u001b[0mgraph\u001b[0m\u001b[0;34m.\u001b[0m\u001b[0mis_feedable\u001b[0m\u001b[0;34m(\u001b[0m\u001b[0msubfeed_t\u001b[0m\u001b[0;34m)\u001b[0m\u001b[0;34m:\u001b[0m\u001b[0;34m\u001b[0m\u001b[0;34m\u001b[0m\u001b[0m\n\u001b[1;32m   1088\u001b[0m             \u001b[0;32mraise\u001b[0m \u001b[0mValueError\u001b[0m\u001b[0;34m(\u001b[0m\u001b[0;34m'Tensor %s may not be fed.'\u001b[0m \u001b[0;34m%\u001b[0m \u001b[0msubfeed_t\u001b[0m\u001b[0;34m)\u001b[0m\u001b[0;34m\u001b[0m\u001b[0;34m\u001b[0m\u001b[0m\n",
      "\u001b[0;31mValueError\u001b[0m: Cannot feed value of shape (30, 4) for Tensor 'Placeholder:0', which has shape '(?,)'"
     ]
    }
   ],
   "source": [
    "# inputs    = rollout[:,0] # 10x3x11x11x4\n",
    "# water_res = rollout[:,1] # 10x3x1\n",
    "# actions   = rollout[:,2] # 10x3x4\n",
    "# rewards   = rollout[:,3] # 10x3x1 FIXME!!!\n",
    "# valids    = rollout[:,4] # 10x3x25 FIXME!!!\n",
    "\n",
    "\n",
    "# In practice: calculate long-term cumulative discounted rewards from episode rewards here\n",
    "# --> net.target_v\n",
    "\n",
    "# In practice: calculate advantages estimates (TD-error) here\n",
    "# --> net.advantages\n",
    "\n",
    "\n",
    "rnn_state = net.state_init\n",
    "feed_dict = {\n",
    "    net.inputs:      np.stack(inputs),\n",
    "    net.water_res:   np.stack(water_res),\n",
    "    net.actions:     np.stack(actions),\n",
    "\n",
    "    net.target_v:    np.stack(rewards),\n",
    "    net.advantages:  np.stack(rewards),\n",
    "\n",
    "    net.state_in[0]: rnn_state[0],\n",
    "    net.state_in[1]: rnn_state[1]\n",
    "}\n",
    "\n",
    "v_l, p_l, valid_l, g_n, _ = sess.run([net.value_loss,\n",
    "                                      net.policy_loss,\n",
    "                                      net.grad_norms,\n",
    "                                      net.apply_grads], feed_dict=feed_dict)\n",
    "\n",
    "print(v_l, p_l, valid_l, g_n)"
   ]
  }
 ],
 "metadata": {
  "kernelspec": {
   "display_name": "course_env",
   "language": "python",
   "name": "python3"
  },
  "language_info": {
   "codemirror_mode": {
    "name": "ipython",
    "version": 3
   },
   "file_extension": ".py",
   "mimetype": "text/x-python",
   "name": "python",
   "nbconvert_exporter": "python",
   "pygments_lexer": "ipython3",
   "version": "3.6.10"
  }
 },
 "nbformat": 4,
 "nbformat_minor": 2
}
