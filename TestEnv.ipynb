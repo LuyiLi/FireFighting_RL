{
 "cells": [
  {
   "cell_type": "code",
   "execution_count": 1,
   "id": "initial_id",
   "metadata": {
    "ExecuteTime": {
     "end_time": "2023-10-19T17:15:48.075761049Z",
     "start_time": "2023-10-19T17:15:47.563608212Z"
    },
    "collapsed": true
   },
   "outputs": [
    {
     "data": {
      "image/png": "[encoded data removed]",
      "text/plain": [
       "<Figure size 432x288 with 1 Axes>"
      ]
     },
     "metadata": {
      "needs_background": "light"
     },
     "output_type": "display_data"
    },
    {
     "data": {
      "image/png": "[encoded data removed]",
      "text/plain": [
       "<Figure size 432x288 with 2 Axes>"
      ]
     },
     "metadata": {
      "needs_background": "light"
     },
     "output_type": "display_data"
    }
   ],
   "source": [
    "import FireFightingEnv as FFEnv\n",
    "import numpy as np\n",
    "import imageio\n",
    "\n",
    "env = FFEnv.FFEnv(agent_num=3)\n",
    "env.mapEnv.plotAll()\n",
    "\n",
    "env.mapEnv.plotFireMap()"
   ]
  },
  {
   "cell_type": "code",
   "execution_count": 2,
   "id": "d5897a4a9958a700",
   "metadata": {
    "ExecuteTime": {
     "end_time": "2023-10-19T17:17:05.516654851Z",
     "start_time": "2023-10-19T17:17:03.919537102Z"
    },
    "collapsed": false
   },
   "outputs": [
    {
     "name": "stdout",
     "output_type": "stream",
     "text": [
      "GIFs have been generated successfully!\n"
     ]
    }
   ],
   "source": [
    "actions = []\n",
    "fire_frames = []\n",
    "fire_agent_frames = []\n",
    "env_frames = []\n",
    "# env_agent_frames = []\n",
    "\n",
    "for i in range(3):\n",
    "    actions.append(dict())\n",
    "\n",
    "for i in range(10):\n",
    "    for a in actions:\n",
    "        a[0] = np.random.choice([0, 1, 2, 3, 4])\n",
    "        a[1] = np.random.choice([0, 1])\n",
    "        \n",
    "    fire_frames.append(env.mapEnv.figFire())\n",
    "    env_frames.append(env.mapEnv.figEnv())\n",
    "    fire_agent_frames.append(env.mapEnv.figFireAgent())\n",
    "    # env_agent_frames.append(env.mapEnv.figEnvAgent())\n",
    "\n",
    "    env.step(actions)\n",
    "\n",
    "fire_frames.append(env.mapEnv.figFire())\n",
    "env_frames.append(env.mapEnv.figEnv())\n",
    "fire_agent_frames.append(env.mapEnv.figFireAgent())\n",
    "# env_agent_frames.append(env.mapEnv.figEnvAgent())\n",
    "\n",
    "imageio.mimsave('environment.gif', env_frames, duration=0.2)\n",
    "imageio.mimsave('fire.gif', fire_frames, duration=0.2)\n",
    "imageio.mimsave('fire_agent.gif', fire_agent_frames, duration=0.2)\n",
    "# imageio.mimsave('env_agent.gif', env_agent_frames, duration=0.2)\n",
    "\n",
    "print(\"GIFs have been generated successfully!\")"
   ]
  },
  {
   "cell_type": "code",
   "execution_count": 3,
   "id": "c62d168c",
   "metadata": {},
   "outputs": [],
   "source": [
    "# Testing the agent behaviours \n",
    "# env.mapEnv.obstacle_map = np.array([[0, 0, 0, 0, 0, 0, 0, 0, 0, 0, 0, 0, 0, 0, 0],\n",
    "#                                       [0, 0, 0, 0, 0, 0, 0, 0, 0, 0, 0, 0, 0, 0, 0],\n",
    "#                                       [0, 0, 0, 0, 0, 0, 0, 0, 0, 0, 0, 0, 0, 0, 0],\n",
    "#                                       [0, 0, 0, 0, 0, 0, 0, 0, 0, 0, 0, 0, 0, 0, 0],\n",
    "#                                       [0, 0, 0, 0, 0, 0, 0, 0, 0, 0, 0, 0, 0, 0, 0],\n",
    "#                                       [0, 0, 0, 0, 0, 0, 0, 0, 0, 0, 0, 0, 0, 0, 0],\n",
    "#                                       [0, 0, 0, 0, 0, 0, 0, 0, 0, 0, 0, 0, 0, 0, 0],\n",
    "#                                       [0, 0, 1, 1, 1, 1, 1, 1, 1, 1, 1, 1, 1, 1, 0],\n",
    "#                                       [0, 0, 0, 0, 0, 0, 0, 0, 0, 0, 0, 0, 0, 0, 0],\n",
    "#                                       [0, 0, 0, 0, 0, 0, 0, 0, 0, 0, 0, 0, 0, 0, 0],\n",
    "#                                       [0, 0, 0, 0, 0, 0, 0, 0, 0, 0, 0, 0, 0, 0, 0],\n",
    "#                                       [0, 0, 0, 0, 0, 0, 0, 0, 0, 0, 0, 0, 0, 0, 0],\n",
    "#                                       [0, 0, 0, 0, 0, 0, 0, 0, 0, 0, 0, 0, 0, 0, 0],\n",
    "#                                       [0, 0, 0, 0, 0, 0, 0, 0, 0, 0, 0, 0, 0, 0, 0],\n",
    "#                                       [0, 0, 0, 0, 0, 0, 0, 0, 0, 0, 0, 0, 0, 0, 0]])\n",
    "# env.mapEnv.hp_map = np.array([[0, 0, 0, 0, 0, 0, 0, 0, 0, 0, 0, 0, 0, 0, 0],\n",
    "#                                       [0, 0, 0, 0, 0, 0, 0, 0, 0, 0, 0, 0, 0, 0, 0],\n",
    "#                                       [0, 0, 0, 0, 0, 0, 0, 0, 0, 0, 0, 0, 0, 0, 0],\n",
    "#                                       [0, 5, 5, 5, 5, 5, 0, 0, 0, 0, 0, 0, 0, 0, 0],\n",
    "#                                       [0, 5, 5, 5, 5, 5, 0, 0, 0, 0, 0, 0, 0, 0, 0],\n",
    "#                                       [0, 5, 5, 5, 5, 5, 0, 0, 0, 0, 0, 0, 0, 0, 0],\n",
    "#                                       [0, 5, 5, 5, 5, 5, 0, 0, 0, 0, 0, 0, 0, 0, 0],\n",
    "#                                       [0, 5, 5, 5, 5, 5, 0, 0, 0, 0, 0, 0, 0, 0, 0],\n",
    "#                                       [0, 0, 0, 0, 0, 0, 0, 0, 0, 0, 0, 0, 0, 0, 0],\n",
    "#                                       [0, 0, 0, 0, 0, 0, 0, 0, 0, 0, 0, 0, 0, 0, 0],\n",
    "#                                       [0, 0, 0, 0, 0, 0, 0, 0, 0, 0, 0, 0, 0, 0, 0],\n",
    "#                                       [0, 0, 0, 0, 0, 0, 0, 0, 0, 0, 0, 0, 0, 0, 0],\n",
    "#                                       [0, 0, 0, 0, 0, 0, 0, 0, 0, 0, 0, 0, 0, 0, 0],\n",
    "#                                       [0, 0, 0, 0, 0, 0, 0, 0, 0, 0, 0, 0, 0, 0, 0],\n",
    "#                                       [0, 0, 0, 0, 0, 0, 0, 0, 0, 0, 0, 0, 0, 0, 0]])\n",
    "# env.mapEnv.flammable_map = np.array([[0, 0, 0, 0, 0, 0, 0, 0, 0, 0, 0, 0, 0, 0, 0],\n",
    "#                                       [0, 0, 0, 0, 0, 0, 0, 0, 0, 0, 0, 0, 0, 0, 0],\n",
    "#                                       [0, 0, 0, 0, 0, 0, 0, 0, 0, 0, 0, 0, 0, 0, 0],\n",
    "#                                       [0, 1, 1, 1, 1, 1, 0, 0, 0, 0, 0, 0, 0, 0, 0],\n",
    "#                                       [0, 1, 1, 1, 1, 1, 0, 0, 0, 0, 0, 0, 0, 0, 0],\n",
    "#                                       [0, 1, 1, 1, 1, 1, 0, 0, 0, 0, 0, 0, 0, 0, 0],\n",
    "#                                       [0, 1, 1, 1, 1, 1, 0, 0, 0, 0, 0, 0, 0, 0, 0],\n",
    "#                                       [0, 1, 1, 1, 1, 1, 0, 0, 0, 0, 0, 0, 0, 0, 0],\n",
    "#                                       [0, 0, 0, 0, 0, 0, 0, 0, 0, 0, 0, 0, 0, 0, 0],\n",
    "#                                       [0, 0, 0, 0, 0, 0, 0, 0, 0, 0, 0, 0, 0, 0, 0],\n",
    "#                                       [0, 0, 0, 0, 0, 0, 0, 0, 0, 0, 0, 0, 0, 0, 0],\n",
    "#                                       [0, 0, 0, 0, 0, 0, 0, 0, 0, 0, 0, 0, 0, 0, 0],\n",
    "#                                       [0, 0, 0, 0, 0, 0, 0, 0, 0, 0, 0, 0, 0, 0, 0],\n",
    "#                                       [0, 0, 0, 0, 0, 0, 0, 0, 0, 0, 0, 0, 0, 0, 0],\n",
    "#                                       [0, 0, 0, 0, 0, 0, 0, 0, 0, 0, 0, 0, 0, 0, 0]])\n",
    "# env.mapEnv.fire_map = np.array([[0, 0, 0, 0, 0, 0, 0, 0, 0, 0, 0, 0, 0, 0, 0],\n",
    "#                                       [0, 0, 0, 0, 0, 0, 0, 0, 0, 0, 0, 0, 0, 0, 0],\n",
    "#                                       [0, 0, 0, 0, 0, 0, 0, 0, 0, 0, 0, 0, 0, 0, 0],\n",
    "#                                       [0, 1, 1, 1, 1, 1, 0, 0, 0, 0, 0, 0, 0, 0, 0],\n",
    "#                                       [0, 1, 1, 1, 1, 1, 0, 0, 0, 0, 0, 0, 0, 0, 0],\n",
    "#                                       [0, 1, 1, 1, 1, 1, 0, 0, 0, 0, 0, 0, 0, 0, 0],\n",
    "#                                       [0, 1, 1, 1, 1, 1, 0, 0, 0, 0, 0, 0, 0, 0, 0],\n",
    "#                                       [0, 1, 1, 1, 1.1, 1, 0, 0, 0, 0, 0, 0, 0, 0, 0],\n",
    "#                                       [0, 0, 0, 0, 0, 0, 0, 0, 0, 0, 0, 0, 0, 0, 0],\n",
    "#                                       [0, 0, 0, 0, 0, 0, 0, 0, 0, 0, 0, 0, 0, 0, 0],\n",
    "#                                       [0, 0, 0, 0, 0, 0, 0, 0, 0, 0, 0, 0, 0, 0, 0],\n",
    "#                                       [0, 0, 0, 0, 0, 0, 0, 0, 0, 0, 0, 0, 0, 0, 0],\n",
    "#                                       [0, 0, 0, 0, 0, 0, 0, 0, 0, 0, 0, 0, 0, 0, 0],\n",
    "#                                       [0, 0, 0, 0, 0, 0, 0, 0, 0, 0, 0, 0, 0, 0, 0],\n",
    "#                                       [0, 0, 0, 0, 0, 0, 0, 0, 0, 0, 0, 0, 0, 0, 0]])\n",
    "\n",
    "# for i, a in enumerate(env.agents):\n",
    "#     env.mapEnv\n",
    "#     a._move_to(8, 8+i)\n",
    "\n",
    "# test_action = [[0, 0], [3, 1], [0, 1]]\n",
    "# env.step(test_action)\n",
    "# env.step(test_action)\n",
    "\n",
    "# env.mapEnv.plotAll()\n",
    "# env.mapEnv.plotFireMap()\n"
   ]
  },
  {
   "cell_type": "code",
   "execution_count": 4,
   "metadata": {},
   "outputs": [],
   "source": [
    "# env.step(test_action)\n",
    "\n",
    "# env.mapEnv.plotAll()\n",
    "# env.mapEnv.plotFireMap()"
   ]
  }
 ],
 "metadata": {
  "kernelspec": {
   "display_name": "Python 3",
   "language": "python",
   "name": "python3"
  },
  "language_info": {
   "codemirror_mode": {
    "name": "ipython",
    "version": 3
   },
   "file_extension": ".py",
   "mimetype": "text/x-python",
   "name": "python",
   "nbconvert_exporter": "python",
   "pygments_lexer": "ipython3",
   "version": "3.6.10"
  }
 },
 "nbformat": 4,
 "nbformat_minor": 5
}
